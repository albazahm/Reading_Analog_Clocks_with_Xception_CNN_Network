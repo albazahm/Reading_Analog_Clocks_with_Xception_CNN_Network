{
 "cells": [
  {
   "cell_type": "markdown",
   "metadata": {
    "papermill": {
     "duration": 0.026284,
     "end_time": "2020-09-28T16:53:07.286129",
     "exception": false,
     "start_time": "2020-09-28T16:53:07.259845",
     "status": "completed"
    },
    "tags": []
   },
   "source": [
    "### Loading Libraries"
   ]
  },
  {
   "cell_type": "code",
   "execution_count": 1,
   "metadata": {
    "_cell_guid": "b1076dfc-b9ad-4769-8c92-a6c4dae69d19",
    "_uuid": "8f2839f25d086af736a60e9eeb907d3b93b6e0e5",
    "execution": {
     "iopub.execute_input": "2020-09-28T16:53:07.344312Z",
     "iopub.status.busy": "2020-09-28T16:53:07.343368Z",
     "iopub.status.idle": "2020-09-28T16:53:14.041131Z",
     "shell.execute_reply": "2020-09-28T16:53:14.039852Z"
    },
    "papermill": {
     "duration": 6.727876,
     "end_time": "2020-09-28T16:53:14.041280",
     "exception": false,
     "start_time": "2020-09-28T16:53:07.313404",
     "status": "completed"
    },
    "tags": []
   },
   "outputs": [],
   "source": [
    "import numpy as np # linear algebra\n",
    "import pandas as pd # data processing, CSV file I/O (e.g. pd.read_csv)\n",
    "import gc\n",
    "import random\n",
    "import os\n",
    "import matplotlib.pyplot as plt\n",
    "import tensorflow as tf\n",
    "from tensorflow.keras.utils import to_categorical\n",
    "from tensorflow.keras.preprocessing import image\n",
    "from tensorflow.keras.layers import *\n",
    "from tensorflow.keras.models import Sequential, Model\n",
    "from tensorflow.keras.applications import xception\n",
    "from sklearn.preprocessing import MultiLabelBinarizer"
   ]
  },
  {
   "cell_type": "markdown",
   "metadata": {
    "papermill": {
     "duration": 0.019802,
     "end_time": "2020-09-28T16:53:14.080645",
     "exception": false,
     "start_time": "2020-09-28T16:53:14.060843",
     "status": "completed"
    },
    "tags": []
   },
   "source": [
    "### Brief Exploration"
   ]
  },
  {
   "cell_type": "code",
   "execution_count": 2,
   "metadata": {
    "execution": {
     "iopub.execute_input": "2020-09-28T16:53:14.125451Z",
     "iopub.status.busy": "2020-09-28T16:53:14.124728Z",
     "iopub.status.idle": "2020-09-28T16:53:14.129762Z",
     "shell.execute_reply": "2020-09-28T16:53:14.128904Z"
    },
    "papermill": {
     "duration": 0.029912,
     "end_time": "2020-09-28T16:53:14.129918",
     "exception": false,
     "start_time": "2020-09-28T16:53:14.100006",
     "status": "completed"
    },
    "tags": []
   },
   "outputs": [],
   "source": [
    "#defining directory paths\n",
    "image_dir = '/kaggle/input/analog-clocks/analog_clocks/images/'\n",
    "labels_dir = '/kaggle/input/analog-clocks/analog_clocks/label.csv'"
   ]
  },
  {
   "cell_type": "code",
   "execution_count": 3,
   "metadata": {
    "execution": {
     "iopub.execute_input": "2020-09-28T16:53:14.180324Z",
     "iopub.status.busy": "2020-09-28T16:53:14.179489Z",
     "iopub.status.idle": "2020-09-28T16:53:14.240245Z",
     "shell.execute_reply": "2020-09-28T16:53:14.241022Z"
    },
    "papermill": {
     "duration": 0.091486,
     "end_time": "2020-09-28T16:53:14.241201",
     "exception": false,
     "start_time": "2020-09-28T16:53:14.149715",
     "status": "completed"
    },
    "tags": []
   },
   "outputs": [
    {
     "data": {
      "text/html": [
       "<div>\n",
       "<style scoped>\n",
       "    .dataframe tbody tr th:only-of-type {\n",
       "        vertical-align: middle;\n",
       "    }\n",
       "\n",
       "    .dataframe tbody tr th {\n",
       "        vertical-align: top;\n",
       "    }\n",
       "\n",
       "    .dataframe thead th {\n",
       "        text-align: right;\n",
       "    }\n",
       "</style>\n",
       "<table border=\"1\" class=\"dataframe\">\n",
       "  <thead>\n",
       "    <tr style=\"text-align: right;\">\n",
       "      <th></th>\n",
       "      <th>hour</th>\n",
       "      <th>minute</th>\n",
       "    </tr>\n",
       "  </thead>\n",
       "  <tbody>\n",
       "    <tr>\n",
       "      <th>count</th>\n",
       "      <td>50000.000000</td>\n",
       "      <td>50000.000000</td>\n",
       "    </tr>\n",
       "    <tr>\n",
       "      <th>mean</th>\n",
       "      <td>5.522940</td>\n",
       "      <td>29.531240</td>\n",
       "    </tr>\n",
       "    <tr>\n",
       "      <th>std</th>\n",
       "      <td>3.459953</td>\n",
       "      <td>17.210759</td>\n",
       "    </tr>\n",
       "    <tr>\n",
       "      <th>min</th>\n",
       "      <td>0.000000</td>\n",
       "      <td>0.000000</td>\n",
       "    </tr>\n",
       "    <tr>\n",
       "      <th>25%</th>\n",
       "      <td>3.000000</td>\n",
       "      <td>15.000000</td>\n",
       "    </tr>\n",
       "    <tr>\n",
       "      <th>50%</th>\n",
       "      <td>6.000000</td>\n",
       "      <td>30.000000</td>\n",
       "    </tr>\n",
       "    <tr>\n",
       "      <th>75%</th>\n",
       "      <td>9.000000</td>\n",
       "      <td>44.000000</td>\n",
       "    </tr>\n",
       "    <tr>\n",
       "      <th>max</th>\n",
       "      <td>11.000000</td>\n",
       "      <td>59.000000</td>\n",
       "    </tr>\n",
       "  </tbody>\n",
       "</table>\n",
       "</div>"
      ],
      "text/plain": [
       "               hour        minute\n",
       "count  50000.000000  50000.000000\n",
       "mean       5.522940     29.531240\n",
       "std        3.459953     17.210759\n",
       "min        0.000000      0.000000\n",
       "25%        3.000000     15.000000\n",
       "50%        6.000000     30.000000\n",
       "75%        9.000000     44.000000\n",
       "max       11.000000     59.000000"
      ]
     },
     "execution_count": 3,
     "metadata": {},
     "output_type": "execute_result"
    }
   ],
   "source": [
    "#examining labels\n",
    "labels = pd.read_csv(labels_dir)\n",
    "labels.describe()"
   ]
  },
  {
   "cell_type": "code",
   "execution_count": 4,
   "metadata": {
    "execution": {
     "iopub.execute_input": "2020-09-28T16:53:14.287093Z",
     "iopub.status.busy": "2020-09-28T16:53:14.286150Z",
     "iopub.status.idle": "2020-09-28T16:53:14.318753Z",
     "shell.execute_reply": "2020-09-28T16:53:14.317356Z"
    },
    "papermill": {
     "duration": 0.056799,
     "end_time": "2020-09-28T16:53:14.318886",
     "exception": false,
     "start_time": "2020-09-28T16:53:14.262087",
     "status": "completed"
    },
    "tags": []
   },
   "outputs": [
    {
     "data": {
      "text/plain": [
       "8     0.08580\n",
       "11    0.08546\n",
       "6     0.08462\n",
       "10    0.08452\n",
       "1     0.08428\n",
       "2     0.08290\n",
       "7     0.08286\n",
       "3     0.08248\n",
       "0     0.08246\n",
       "4     0.08180\n",
       "5     0.08164\n",
       "9     0.08118\n",
       "Name: hour, dtype: float64"
      ]
     },
     "execution_count": 4,
     "metadata": {},
     "output_type": "execute_result"
    }
   ],
   "source": [
    "#distribution of classes in hour column\n",
    "labels.hour.value_counts(normalize=True)"
   ]
  },
  {
   "cell_type": "code",
   "execution_count": 5,
   "metadata": {
    "execution": {
     "iopub.execute_input": "2020-09-28T16:53:14.368697Z",
     "iopub.status.busy": "2020-09-28T16:53:14.367691Z",
     "iopub.status.idle": "2020-09-28T16:53:14.377184Z",
     "shell.execute_reply": "2020-09-28T16:53:14.376605Z"
    },
    "papermill": {
     "duration": 0.034784,
     "end_time": "2020-09-28T16:53:14.377304",
     "exception": false,
     "start_time": "2020-09-28T16:53:14.342520",
     "status": "completed"
    },
    "tags": []
   },
   "outputs": [
    {
     "data": {
      "text/plain": [
       "37    0.01804\n",
       "19    0.01790\n",
       "39    0.01778\n",
       "32    0.01776\n",
       "44    0.01774\n",
       "45    0.01744\n",
       "13    0.01744\n",
       "28    0.01736\n",
       "17    0.01734\n",
       "47    0.01732\n",
       "4     0.01724\n",
       "21    0.01718\n",
       "22    0.01716\n",
       "26    0.01710\n",
       "16    0.01708\n",
       "46    0.01706\n",
       "34    0.01704\n",
       "36    0.01702\n",
       "23    0.01700\n",
       "55    0.01692\n",
       "50    0.01690\n",
       "49    0.01688\n",
       "27    0.01686\n",
       "51    0.01684\n",
       "33    0.01682\n",
       "11    0.01680\n",
       "7     0.01680\n",
       "31    0.01674\n",
       "42    0.01672\n",
       "38    0.01670\n",
       "41    0.01670\n",
       "24    0.01662\n",
       "15    0.01652\n",
       "18    0.01652\n",
       "48    0.01650\n",
       "57    0.01646\n",
       "12    0.01644\n",
       "6     0.01644\n",
       "20    0.01642\n",
       "8     0.01642\n",
       "1     0.01640\n",
       "56    0.01632\n",
       "59    0.01630\n",
       "3     0.01630\n",
       "29    0.01628\n",
       "0     0.01626\n",
       "9     0.01624\n",
       "52    0.01614\n",
       "40    0.01610\n",
       "53    0.01602\n",
       "54    0.01600\n",
       "10    0.01598\n",
       "35    0.01586\n",
       "14    0.01580\n",
       "5     0.01576\n",
       "25    0.01574\n",
       "30    0.01574\n",
       "2     0.01566\n",
       "58    0.01556\n",
       "43    0.01552\n",
       "Name: minute, dtype: float64"
      ]
     },
     "execution_count": 5,
     "metadata": {},
     "output_type": "execute_result"
    }
   ],
   "source": [
    "#distribution of classes in minute column\n",
    "labels.minute.value_counts(normalize=True)"
   ]
  },
  {
   "cell_type": "code",
   "execution_count": 6,
   "metadata": {
    "_cell_guid": "79c7e3d0-c299-4dcb-8224-4455121ee9b0",
    "_uuid": "d629ff2d2480ee46fbb7e2d37f6b5fab8052498a",
    "execution": {
     "iopub.execute_input": "2020-09-28T16:53:14.432748Z",
     "iopub.status.busy": "2020-09-28T16:53:14.431907Z",
     "iopub.status.idle": "2020-09-28T16:53:15.385973Z",
     "shell.execute_reply": "2020-09-28T16:53:15.386503Z"
    },
    "papermill": {
     "duration": 0.986397,
     "end_time": "2020-09-28T16:53:15.386634",
     "exception": false,
     "start_time": "2020-09-28T16:53:14.400237",
     "status": "completed"
    },
    "tags": []
   },
   "outputs": [
    {
     "data": {
      "image/png": "[encoded data removed]",
      "text/plain": [
       "<Figure size 576x432 with 6 Axes>"
      ]
     },
     "metadata": {
      "needs_background": "light"
     },
     "output_type": "display_data"
    }
   ],
   "source": [
    "#preview of dataset\n",
    "sample_dir = '/kaggle/input/analog-clocks/analog_clocks/samples/'\n",
    "fig = plt.figure(figsize=(8, 6))\n",
    "for i, file in enumerate(os.listdir(sample_dir)):\n",
    "    img = image.load_img(os.path.join(sample_dir, file),\n",
    "                         interpolation='box')\n",
    "    img = image.img_to_array(img, dtype='float32')\n",
    "    img /= 255.0\n",
    "    plt.subplot(2, 3, i+1)\n",
    "    plt.imshow(img)\n",
    "    plt.title('Sample ' + str(i+1))"
   ]
  },
  {
   "cell_type": "markdown",
   "metadata": {
    "papermill": {
     "duration": 0.022881,
     "end_time": "2020-09-28T16:53:15.432600",
     "exception": false,
     "start_time": "2020-09-28T16:53:15.409719",
     "status": "completed"
    },
    "tags": []
   },
   "source": [
    "### Data Processing"
   ]
  },
  {
   "cell_type": "code",
   "execution_count": 7,
   "metadata": {
    "execution": {
     "iopub.execute_input": "2020-09-28T16:53:15.486118Z",
     "iopub.status.busy": "2020-09-28T16:53:15.485187Z",
     "iopub.status.idle": "2020-09-28T16:53:15.826868Z",
     "shell.execute_reply": "2020-09-28T16:53:15.826242Z"
    },
    "papermill": {
     "duration": 0.371726,
     "end_time": "2020-09-28T16:53:15.827007",
     "exception": false,
     "start_time": "2020-09-28T16:53:15.455281",
     "status": "completed"
    },
    "tags": []
   },
   "outputs": [],
   "source": [
    "#transforming labels to multi-label binary format\n",
    "labels = pd.read_csv(labels_dir).values\n",
    "labels = [tuple(x) for x in labels]\n",
    "labels = [('h' + str(x), 'm' + str(y)) for x,y in labels]    #'h' and 'm' are added to hours and minutes respectively to distinguish them\n",
    "binarizer = MultiLabelBinarizer()\n",
    "labels = binarizer.fit_transform(labels)"
   ]
  },
  {
   "cell_type": "code",
   "execution_count": 8,
   "metadata": {
    "execution": {
     "iopub.execute_input": "2020-09-28T16:53:15.892505Z",
     "iopub.status.busy": "2020-09-28T16:53:15.888496Z",
     "iopub.status.idle": "2020-09-28T16:53:15.895415Z",
     "shell.execute_reply": "2020-09-28T16:53:15.894824Z"
    },
    "papermill": {
     "duration": 0.044611,
     "end_time": "2020-09-28T16:53:15.895532",
     "exception": false,
     "start_time": "2020-09-28T16:53:15.850921",
     "status": "completed"
    },
    "tags": []
   },
   "outputs": [],
   "source": [
    "def generate(image_directory, labels, batch_size=64, size=(224, 224)):\n",
    "    \n",
    "    \"\"\"\n",
    "    Function to create generator of images and labels for the neural network. This allows for training\n",
    "    the model with the limited memory available. The images and labels are generated in batches of a given size.\n",
    "    The images are loaded, added to a batch, preprocessed and have their features extracted using a prebuilt model\n",
    "    (in this case Xception Model). \n",
    "    \n",
    "    Parameters\n",
    "    ----------\n",
    "    image_directory: str\n",
    "        The path where the images are located\n",
    "    labels: array-like or list\n",
    "        list of labels in multi-label binary format\n",
    "    batch_size: int, default=64\n",
    "        the number of images per batch\n",
    "    size: tuple, default=(224, 224)\n",
    "        the height and width to which the image is resized. \n",
    "    \n",
    "    Yields\n",
    "    ------\n",
    "    image_batch: array\n",
    "        Array of image features of size=batch_size\n",
    "    labels_batch: array\n",
    "        Array of labels in multi-label binary format of size=batch_size\n",
    "    \n",
    "    \"\"\"\n",
    "    \n",
    "   \n",
    "    prebuilt_model = xception.Xception(include_top=True,                      \n",
    "              weights='imagenet')                                            #loading prebuilt model\n",
    "    \n",
    "    xception_model = Model(inputs=prebuilt_model.input,        \n",
    "                      outputs=prebuilt_model.layers[-2].output)              #repurposing prebuilt model for feature extraction\n",
    "    \n",
    "    while 1:\n",
    "        \n",
    "        image_filenames = os.listdir(image_directory)                        #obtaining list of image filenames\n",
    "        random.shuffle(image_filenames)                                      #shuffling the list to add randomness every epoch\n",
    "\n",
    "        \n",
    "        image_batch = []                                                     #initializing empty image batch list\n",
    "        labels_batch = []                                                    #initializing empty labels batch list\n",
    "        \n",
    "        for file in image_filenames:                                         #looping over all images in directory\n",
    "\n",
    "            index = int(file.split('.')[0])                                  #extracting image number/index from filename\n",
    "            \n",
    "            img = image.load_img(os.path.join(image_directory, file),        #loading image\n",
    "                                 target_size=size,\n",
    "                                 interpolation='box')\n",
    "            \n",
    "            img_arr = image.img_to_array(img, dtype='float32')               #converting image to array\n",
    "            \n",
    "            label = labels[index]                                            #using image number/index to find correct label in dataframe\n",
    "    \n",
    "            image_batch.append(img_arr)                                      #appending the image to the batch\n",
    "            labels_batch.append(label)                                       #appending the label to the batch\n",
    "\n",
    "    \n",
    "            if len(image_batch)==batch_size:                                 #check to see if batch has required size\n",
    "                image_batch = np.array(image_batch)                          #converting image batch list to array\n",
    "                image_batch = xception.preprocess_input(image_batch)         #using xception preprocessing on image batch array\n",
    "                image_features = xception_model.predict(image_batch)         #using prebuilt xception model to extract features from batch\n",
    "                image_batch = np.array(image_features)                       #converting features to array\n",
    "                image_batch = image_batch.reshape(batch_size,                #reshaping feature array\n",
    "                                                  image_features.shape[1])   \n",
    "                labels_batch = np.array(labels_batch)                        #converting labels batch list to array\n",
    "                yield image_batch, labels_batch                              #yielding image and labels batch array\n",
    "                image_batch = []                                             #reinitializing the image batch\n",
    "                labels_batch = []                                            #reinitializing the label batch\n",
    "                gc.collect()                                                 #collecting garbage to free memory\n"
   ]
  },
  {
   "cell_type": "code",
   "execution_count": 9,
   "metadata": {
    "execution": {
     "iopub.execute_input": "2020-09-28T16:53:15.949294Z",
     "iopub.status.busy": "2020-09-28T16:53:15.948286Z",
     "iopub.status.idle": "2020-09-28T16:53:15.951023Z",
     "shell.execute_reply": "2020-09-28T16:53:15.951520Z"
    },
    "papermill": {
     "duration": 0.032205,
     "end_time": "2020-09-28T16:53:15.951651",
     "exception": false,
     "start_time": "2020-09-28T16:53:15.919446",
     "status": "completed"
    },
    "tags": []
   },
   "outputs": [],
   "source": [
    "#Defining training parameters\n",
    "BATCH_SIZE = 256\n",
    "IMAGE_SIZE = (299, 299) #this is the size suggested for Xception model\n",
    "EPOCHS = 10\n",
    "STEPS = int(labels.shape[0] / BATCH_SIZE)"
   ]
  },
  {
   "cell_type": "code",
   "execution_count": 10,
   "metadata": {
    "execution": {
     "iopub.execute_input": "2020-09-28T16:53:16.007369Z",
     "iopub.status.busy": "2020-09-28T16:53:16.006625Z",
     "iopub.status.idle": "2020-09-28T16:53:26.962264Z",
     "shell.execute_reply": "2020-09-28T16:53:26.961558Z"
    },
    "papermill": {
     "duration": 10.98718,
     "end_time": "2020-09-28T16:53:26.962396",
     "exception": false,
     "start_time": "2020-09-28T16:53:15.975216",
     "status": "completed"
    },
    "tags": []
   },
   "outputs": [
    {
     "name": "stdout",
     "output_type": "stream",
     "text": [
      "Downloading data from https://storage.googleapis.com/tensorflow/keras-applications/xception/xception_weights_tf_dim_ordering_tf_kernels.h5\n",
      "91889664/91884032 [==============================] - 1s 0us/step\n"
     ]
    }
   ],
   "source": [
    "#testing generator\n",
    "sample_generator = next(generate(image_directory=image_dir, \n",
    "                                 labels=labels, \n",
    "                                 batch_size=1, \n",
    "                                 size=IMAGE_SIZE))"
   ]
  },
  {
   "cell_type": "code",
   "execution_count": 11,
   "metadata": {
    "execution": {
     "iopub.execute_input": "2020-09-28T16:53:27.034617Z",
     "iopub.status.busy": "2020-09-28T16:53:27.032853Z",
     "iopub.status.idle": "2020-09-28T16:53:27.037506Z",
     "shell.execute_reply": "2020-09-28T16:53:27.038117Z"
    },
    "papermill": {
     "duration": 0.044801,
     "end_time": "2020-09-28T16:53:27.038277",
     "exception": false,
     "start_time": "2020-09-28T16:53:26.993476",
     "status": "completed"
    },
    "tags": []
   },
   "outputs": [
    {
     "data": {
      "text/plain": [
       "(array([[0.        , 0.        , 0.00143245, ..., 0.03733912, 0.20625672,\n",
       "         0.28545055]], dtype=float32),\n",
       " array([[0, 0, 0, 0, 0, 0, 0, 1, 0, 0, 0, 0, 0, 0, 0, 0, 0, 0, 0, 0, 0, 0,\n",
       "         0, 0, 0, 0, 0, 0, 0, 0, 0, 0, 0, 0, 0, 0, 0, 1, 0, 0, 0, 0, 0, 0,\n",
       "         0, 0, 0, 0, 0, 0, 0, 0, 0, 0, 0, 0, 0, 0, 0, 0, 0, 0, 0, 0, 0, 0,\n",
       "         0, 0, 0, 0, 0, 0]]))"
      ]
     },
     "execution_count": 11,
     "metadata": {},
     "output_type": "execute_result"
    }
   ],
   "source": [
    "#output of generator\n",
    "sample_generator"
   ]
  },
  {
   "cell_type": "code",
   "execution_count": 12,
   "metadata": {
    "execution": {
     "iopub.execute_input": "2020-09-28T16:53:27.112084Z",
     "iopub.status.busy": "2020-09-28T16:53:27.110667Z",
     "iopub.status.idle": "2020-09-28T16:53:27.112826Z",
     "shell.execute_reply": "2020-09-28T16:53:27.113377Z"
    },
    "papermill": {
     "duration": 0.041189,
     "end_time": "2020-09-28T16:53:27.113502",
     "exception": false,
     "start_time": "2020-09-28T16:53:27.072313",
     "status": "completed"
    },
    "tags": []
   },
   "outputs": [],
   "source": [
    "#extracting input and output dims from generator\n",
    "INPUT_DIM = sample_generator[0][0].shape\n",
    "OUTPUT_DIM = sample_generator[1].shape[1]"
   ]
  },
  {
   "cell_type": "code",
   "execution_count": 13,
   "metadata": {
    "execution": {
     "iopub.execute_input": "2020-09-28T16:53:27.182000Z",
     "iopub.status.busy": "2020-09-28T16:53:27.181223Z",
     "iopub.status.idle": "2020-09-28T16:53:27.186297Z",
     "shell.execute_reply": "2020-09-28T16:53:27.187083Z"
    },
    "papermill": {
     "duration": 0.042612,
     "end_time": "2020-09-28T16:53:27.187277",
     "exception": false,
     "start_time": "2020-09-28T16:53:27.144665",
     "status": "completed"
    },
    "tags": []
   },
   "outputs": [
    {
     "name": "stdout",
     "output_type": "stream",
     "text": [
      "(2048,) 72\n"
     ]
    }
   ],
   "source": [
    "print(INPUT_DIM, OUTPUT_DIM)"
   ]
  },
  {
   "cell_type": "code",
   "execution_count": 14,
   "metadata": {
    "execution": {
     "iopub.execute_input": "2020-09-28T16:53:27.261969Z",
     "iopub.status.busy": "2020-09-28T16:53:27.261001Z",
     "iopub.status.idle": "2020-09-28T16:53:27.264003Z",
     "shell.execute_reply": "2020-09-28T16:53:27.264499Z"
    },
    "papermill": {
     "duration": 0.044797,
     "end_time": "2020-09-28T16:53:27.264635",
     "exception": false,
     "start_time": "2020-09-28T16:53:27.219838",
     "status": "completed"
    },
    "tags": []
   },
   "outputs": [],
   "source": [
    "def create_model(input_shape, output_shape):\n",
    "    \n",
    "    \"\"\"\n",
    "    Function to build and compile neural network to predict analog clocks from images\n",
    "    \n",
    "    Parameters\n",
    "    ----------\n",
    "    input_shape: tuple\n",
    "        Shape tuple not including the batch_size, example: (2048, )\n",
    "    output_shape: int\n",
    "        Number of nodes in final layer\n",
    "    \n",
    "    Returns\n",
    "    -------\n",
    "    model: Keras model object\n",
    "        A compiled Keras model\n",
    "    \"\"\"\n",
    "\n",
    "    input_layer = Input(shape=input_shape)\n",
    "    norm  = BatchNormalization()(input_layer)\n",
    "    drop = Dropout(0.25)(norm)\n",
    "    fc1 = Dense(256, activation='relu')(norm)\n",
    "    fc2 = Dense(256, activation='relu')(fc1)\n",
    "    output1 = Dense(output_shape, activation='sigmoid')(fc2)\n",
    "    \n",
    "    #contructing model from layers\n",
    "    model = Model(inputs=input_layer,\n",
    "                  outputs=output1)\n",
    "    \n",
    "    #compiling model\n",
    "    model.compile(loss='binary_crossentropy',\n",
    "                  optimizer='adam',\n",
    "                  metrics=['accuracy']\n",
    "                  )\n",
    "    \n",
    "    return model"
   ]
  },
  {
   "cell_type": "code",
   "execution_count": 15,
   "metadata": {
    "execution": {
     "iopub.execute_input": "2020-09-28T16:53:27.334161Z",
     "iopub.status.busy": "2020-09-28T16:53:27.333420Z",
     "iopub.status.idle": "2020-09-28T16:53:27.423704Z",
     "shell.execute_reply": "2020-09-28T16:53:27.423033Z"
    },
    "papermill": {
     "duration": 0.127724,
     "end_time": "2020-09-28T16:53:27.423827",
     "exception": false,
     "start_time": "2020-09-28T16:53:27.296103",
     "status": "completed"
    },
    "tags": []
   },
   "outputs": [],
   "source": [
    "#creating instance of model\n",
    "model = create_model(input_shape=INPUT_DIM,\n",
    "                     output_shape=OUTPUT_DIM)"
   ]
  },
  {
   "cell_type": "code",
   "execution_count": 16,
   "metadata": {
    "execution": {
     "iopub.execute_input": "2020-09-28T16:53:27.501086Z",
     "iopub.status.busy": "2020-09-28T16:53:27.498947Z",
     "iopub.status.idle": "2020-09-28T16:53:27.539207Z",
     "shell.execute_reply": "2020-09-28T16:53:27.540256Z"
    },
    "papermill": {
     "duration": 0.084837,
     "end_time": "2020-09-28T16:53:27.540463",
     "exception": false,
     "start_time": "2020-09-28T16:53:27.455626",
     "status": "completed"
    },
    "tags": []
   },
   "outputs": [
    {
     "name": "stdout",
     "output_type": "stream",
     "text": [
      "Model: \"functional_3\"\n",
      "_________________________________________________________________\n",
      "Layer (type)                 Output Shape              Param #   \n",
      "=================================================================\n",
      "input_2 (InputLayer)         [(None, 2048)]            0         \n",
      "_________________________________________________________________\n",
      "batch_normalization_4 (Batch (None, 2048)              8192      \n",
      "_________________________________________________________________\n",
      "dense (Dense)                (None, 256)               524544    \n",
      "_________________________________________________________________\n",
      "dense_1 (Dense)              (None, 256)               65792     \n",
      "_________________________________________________________________\n",
      "dense_2 (Dense)              (None, 72)                18504     \n",
      "=================================================================\n",
      "Total params: 617,032\n",
      "Trainable params: 612,936\n",
      "Non-trainable params: 4,096\n",
      "_________________________________________________________________\n"
     ]
    }
   ],
   "source": [
    "model.summary()"
   ]
  },
  {
   "cell_type": "code",
   "execution_count": 17,
   "metadata": {
    "execution": {
     "iopub.execute_input": "2020-09-28T16:53:27.647587Z",
     "iopub.status.busy": "2020-09-28T16:53:27.646505Z",
     "iopub.status.idle": "2020-09-28T16:53:27.651217Z",
     "shell.execute_reply": "2020-09-28T16:53:27.652006Z"
    },
    "papermill": {
     "duration": 0.062518,
     "end_time": "2020-09-28T16:53:27.652218",
     "exception": false,
     "start_time": "2020-09-28T16:53:27.589700",
     "status": "completed"
    },
    "tags": []
   },
   "outputs": [],
   "source": [
    "#initializing generator for training\n",
    "generator = generate(image_directory=image_dir,\n",
    "                     labels=labels, \n",
    "                     batch_size=BATCH_SIZE, \n",
    "                     size=IMAGE_SIZE)"
   ]
  },
  {
   "cell_type": "code",
   "execution_count": 18,
   "metadata": {
    "execution": {
     "iopub.execute_input": "2020-09-28T16:53:27.726330Z",
     "iopub.status.busy": "2020-09-28T16:53:27.725358Z",
     "iopub.status.idle": "2020-09-28T18:20:57.788725Z",
     "shell.execute_reply": "2020-09-28T18:20:57.789286Z"
    },
    "papermill": {
     "duration": 5250.102978,
     "end_time": "2020-09-28T18:20:57.789456",
     "exception": false,
     "start_time": "2020-09-28T16:53:27.686478",
     "status": "completed"
    },
    "tags": []
   },
   "outputs": [
    {
     "name": "stdout",
     "output_type": "stream",
     "text": [
      "Epoch 1/10\n",
      "195/195 [==============================] - 570s 3s/step - loss: 0.1104 - accuracy: 0.4480\n",
      "Epoch 2/10\n",
      "195/195 [==============================] - 514s 3s/step - loss: 0.0645 - accuracy: 0.6892\n",
      "Epoch 3/10\n",
      "195/195 [==============================] - 517s 3s/step - loss: 0.0531 - accuracy: 0.7599\n",
      "Epoch 4/10\n",
      "195/195 [==============================] - 518s 3s/step - loss: 0.0463 - accuracy: 0.8011\n",
      "Epoch 5/10\n",
      "195/195 [==============================] - 517s 3s/step - loss: 0.0412 - accuracy: 0.8290\n",
      "Epoch 6/10\n",
      "195/195 [==============================] - 514s 3s/step - loss: 0.0373 - accuracy: 0.8523\n",
      "Epoch 7/10\n",
      "195/195 [==============================] - 517s 3s/step - loss: 0.0341 - accuracy: 0.8646\n",
      "Epoch 8/10\n",
      "195/195 [==============================] - 516s 3s/step - loss: 0.0313 - accuracy: 0.8803\n",
      "Epoch 9/10\n",
      "195/195 [==============================] - 509s 3s/step - loss: 0.0290 - accuracy: 0.8861\n",
      "Epoch 10/10\n",
      "195/195 [==============================] - 520s 3s/step - loss: 0.0270 - accuracy: 0.8918\n"
     ]
    }
   ],
   "source": [
    "#fitting model\n",
    "history = model.fit(generator, \n",
    "                    epochs=EPOCHS, \n",
    "                    steps_per_epoch=STEPS)"
   ]
  },
  {
   "cell_type": "markdown",
   "metadata": {
    "papermill": {
     "duration": 0.799553,
     "end_time": "2020-09-28T18:20:59.398108",
     "exception": false,
     "start_time": "2020-09-28T18:20:58.598555",
     "status": "completed"
    },
    "tags": []
   },
   "source": [
    "### Model Prediction on Sample"
   ]
  },
  {
   "cell_type": "code",
   "execution_count": 19,
   "metadata": {
    "execution": {
     "iopub.execute_input": "2020-09-28T18:21:01.237548Z",
     "iopub.status.busy": "2020-09-28T18:21:01.235842Z",
     "iopub.status.idle": "2020-09-28T18:21:01.238511Z",
     "shell.execute_reply": "2020-09-28T18:21:01.239238Z"
    },
    "papermill": {
     "duration": 0.997678,
     "end_time": "2020-09-28T18:21:01.239408",
     "exception": false,
     "start_time": "2020-09-28T18:21:00.241730",
     "status": "completed"
    },
    "tags": []
   },
   "outputs": [],
   "source": [
    "def predict(path):\n",
    "    \n",
    "    \"\"\"\n",
    "    Function to predict all images in a given path\n",
    "    \n",
    "    Parameters\n",
    "    ----------\n",
    "    path: str\n",
    "        Path for images to be predicted\n",
    "    \"\"\"\n",
    "    \n",
    "    \n",
    "    prebuilt_model = xception.Xception(include_top=True,\n",
    "              weights='imagenet')                              #loading pre-built model\n",
    "    \n",
    "    xception_model = Model(inputs=prebuilt_model.input,\n",
    "                      outputs=prebuilt_model.layers[-2].output)#repurposing pre-built model for feature extraction\n",
    "    \n",
    "    fig = plt.figure(figsize=(8, 6))                           #creating figure to plot all images\n",
    "    \n",
    "    #looping over all images in path\n",
    "    for i, file in enumerate(os.listdir(path)):\n",
    "        \n",
    "\n",
    "        img = image.load_img(os.path.join(path, file))         #loading images\n",
    "        img_arr = image.img_to_array(img, dtype='float32')     #converting images to array\n",
    "        \n",
    "                \n",
    "        plt.subplot(2, 3, i+1)                                 #creating subplot for image\n",
    "        plt.imshow(img_arr/255.0)                              #plotting image\n",
    "        \n",
    "        img_arr = np.expand_dims(img_arr, axis=0)              #adding extra dim to image array\n",
    "        img_arr = xception.preprocess_input(img_arr)           #preprocessing image array using xception method\n",
    "        img_features = xception_model.predict(img_arr)         #extracting features from image using prebuilt xception model\n",
    "        \n",
    "        prediction = model.predict(img_features)[0]            #predicting time from image features                        \n",
    "        \n",
    "        hour_max = np.argmax(prediction[:12])                  #obtaining hour with the highest probability\n",
    "        minute_max = np.argmax(prediction[12:]) + 12           #obtaining minute with the highest probability\n",
    "        \n",
    "        \n",
    "        title = 'Prediction' + ': ' + binarizer.classes_[hour_max] + ' ' + binarizer.classes_[minute_max]\n",
    "        plt.title(title)                                       #adding title to subplot"
   ]
  },
  {
   "cell_type": "code",
   "execution_count": 20,
   "metadata": {
    "execution": {
     "iopub.execute_input": "2020-09-28T18:21:02.834587Z",
     "iopub.status.busy": "2020-09-28T18:21:02.833509Z",
     "iopub.status.idle": "2020-09-28T18:21:07.547472Z",
     "shell.execute_reply": "2020-09-28T18:21:07.548404Z"
    },
    "papermill": {
     "duration": 5.522284,
     "end_time": "2020-09-28T18:21:07.548643",
     "exception": false,
     "start_time": "2020-09-28T18:21:02.026359",
     "status": "completed"
    },
    "tags": []
   },
   "outputs": [
    {
     "data": {
      "image/png": "[encoded data removed]",
      "text/plain": [
       "<Figure size 576x432 with 6 Axes>"
      ]
     },
     "metadata": {
      "needs_background": "light"
     },
     "output_type": "display_data"
    }
   ],
   "source": [
    "#predicting and plotting all images in sample directory\n",
    "predict('/kaggle/input/analog-clocks/analog_clocks/samples/')"
   ]
  },
  {
   "cell_type": "code",
   "execution_count": 21,
   "metadata": {
    "execution": {
     "iopub.execute_input": "2020-09-28T18:21:09.523578Z",
     "iopub.status.busy": "2020-09-28T18:21:09.521517Z",
     "iopub.status.idle": "2020-09-28T18:21:09.524393Z",
     "shell.execute_reply": "2020-09-28T18:21:09.524925Z"
    },
    "papermill": {
     "duration": 1.012014,
     "end_time": "2020-09-28T18:21:09.525092",
     "exception": false,
     "start_time": "2020-09-28T18:21:08.513078",
     "status": "completed"
    },
    "tags": []
   },
   "outputs": [],
   "source": [
    "for layer in model.layers:\n",
    "    layer.trainable = False"
   ]
  },
  {
   "cell_type": "code",
   "execution_count": 22,
   "metadata": {
    "execution": {
     "iopub.execute_input": "2020-09-28T18:21:11.111540Z",
     "iopub.status.busy": "2020-09-28T18:21:11.110403Z",
     "iopub.status.idle": "2020-09-28T18:21:12.464449Z",
     "shell.execute_reply": "2020-09-28T18:21:12.460542Z"
    },
    "papermill": {
     "duration": 2.145717,
     "end_time": "2020-09-28T18:21:12.464573",
     "exception": false,
     "start_time": "2020-09-28T18:21:10.318856",
     "status": "completed"
    },
    "tags": []
   },
   "outputs": [],
   "source": [
    "model.save('model')"
   ]
  },
  {
   "cell_type": "markdown",
   "metadata": {
    "papermill": {
     "duration": 0.792396,
     "end_time": "2020-09-28T18:21:14.169216",
     "exception": false,
     "start_time": "2020-09-28T18:21:13.376820",
     "status": "completed"
    },
    "tags": []
   },
   "source": [
    "### Take Aways\n",
    "\n",
    "- Prebuilt models are very useful to extract features in this case\n",
    "- Treating this problem as a multi-label classification achieves the best results over multi-class, possible due to lower dimensionality of labels (72 verus 720)\n",
    "    - Initially tried having two outputs to the model, one for hours and one for minutes, but the model prioritizes optimizing hours over minutes\n",
    "- It is difficult to obtain a reliable test set since there doesn't seem to be a way to stratify the different classes (have equal representation of each time in test set)\n",
    "    - Since this is a generated dataset, it would be possible to produce another dataset for test purposes that has equal representation of each time"
   ]
  }
 ],
 "metadata": {
  "kernelspec": {
   "display_name": "Python 3",
   "language": "python",
   "name": "python3"
  },
  "language_info": {
   "codemirror_mode": {
    "name": "ipython",
    "version": 3
   },
   "file_extension": ".py",
   "mimetype": "text/x-python",
   "name": "python",
   "nbconvert_exporter": "python",
   "pygments_lexer": "ipython3",
   "version": "3.7.6"
  },
  "papermill": {
   "duration": 5294.592594,
   "end_time": "2020-09-28T18:21:16.775955",
   "environment_variables": {},
   "exception": null,
   "input_path": "__notebook__.ipynb",
   "output_path": "__notebook__.ipynb",
   "parameters": {},
   "start_time": "2020-09-28T16:53:02.183361",
   "version": "2.1.0"
  }
 },
 "nbformat": 4,
 "nbformat_minor": 4
}
